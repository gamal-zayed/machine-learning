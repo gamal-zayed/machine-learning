{
  "nbformat": 4,
  "nbformat_minor": 0,
  "metadata": {
    "colab": {
      "provenance": [],
      "include_colab_link": true
    },
    "kernelspec": {
      "name": "python3",
      "display_name": "Python 3"
    },
    "language_info": {
      "name": "python"
    }
  },
  "cells": [
    {
      "cell_type": "markdown",
      "metadata": {
        "id": "view-in-github",
        "colab_type": "text"
      },
      "source": [
        "<a href=\"https://colab.research.google.com/github/gamal-zayed/machine-learning/blob/main/GZ_lab4_LinearRegressionSample_HintsOnAssignment.ipynb\" target=\"_parent\"><img src=\"https://colab.research.google.com/assets/colab-badge.svg\" alt=\"Open In Colab\"/></a>"
      ]
    },
    {
      "cell_type": "markdown",
      "source": [
        "\n",
        "\n",
        "---\n",
        "\n",
        "---\n",
        "\n",
        "\n",
        "# **Linear Classification**\n",
        "\n",
        "\n",
        "---\n",
        "\n",
        "\n",
        "---\n",
        "\n",
        "\n"
      ],
      "metadata": {
        "id": "TjMbW50KyLfk"
      }
    },
    {
      "cell_type": "code",
      "execution_count": null,
      "metadata": {
        "id": "SRWQpGk-uz0C"
      },
      "outputs": [],
      "source": [
        "import seaborn as sns\n",
        "import pandas as pd\n",
        "import numpy as np\n",
        "from sklearn.model_selection import train_test_split\n",
        "from sklearn import datasets\n",
        "import matplotlib.pyplot as plt\n",
        "import sympy\n",
        "from fractions import Fraction as F"
      ]
    },
    {
      "cell_type": "code",
      "source": [],
      "metadata": {
        "id": "SaszazQA8ecb"
      },
      "execution_count": null,
      "outputs": []
    },
    {
      "cell_type": "markdown",
      "source": [
        "\n",
        "Steps for Linear Regression sample:\n",
        "\n",
        "---\n",
        "\n",
        "\n",
        "#1-Generate a sample by equation\n",
        "\n",
        "\n",
        "> *y=w1X1+w2X2+....+b*\n",
        "\n",
        "#2-Generate random number for Xs\n",
        "\n",
        "#3-Apply Linear Regression\n",
        "\n",
        "#4-Proof the same equation will return using generated sample datasets\n",
        "\n"
      ],
      "metadata": {
        "id": "2JdegCfYrwFQ"
      }
    },
    {
      "cell_type": "code",
      "source": [
        "import numpy as np\n",
        "import random"
      ],
      "metadata": {
        "id": "ui1EqurhBQj3"
      },
      "execution_count": null,
      "outputs": []
    },
    {
      "cell_type": "markdown",
      "source": [
        "#Apply that Algorithm for 1 D , 2 D hyper plane\n"
      ],
      "metadata": {
        "id": "B1Nl5K77rol_"
      }
    },
    {
      "cell_type": "code",
      "source": [
        "# 1D features\n",
        "\n",
        "x= [i for i in range(200)]\n",
        "x1_array=np.array(x)\n",
        "b=np.ones(200)\n",
        "x_features1 = np.zeros((200,2),int)\n",
        "x_features1[:,0]=b\n",
        "x_features1[:,1]=x\n",
        "y_random=[round(3*i+5+random.random(),4) for i in range(200)]  # y= 3x1+5\n",
        "print(y_random)\n",
        "\n"
      ],
      "metadata": {
        "id": "qxErm2Votteb",
        "colab": {
          "base_uri": "https://localhost:8080/"
        },
        "outputId": "51802eb2-23e4-4fdc-ce0c-55c8352551de"
      },
      "execution_count": null,
      "outputs": [
        {
          "output_type": "stream",
          "name": "stdout",
          "text": [
            "[5.5822, 8.7432, 11.6009, 14.2623, 17.1257, 20.3135, 23.809, 26.4144, 29.9371, 32.7107, 35.4292, 38.9831, 41.3899, 44.5056, 47.8824, 50.9641, 53.6936, 56.5157, 59.2482, 62.3073, 65.7816, 68.5136, 71.3055, 74.6668, 77.5066, 80.4991, 83.8302, 86.1332, 89.152, 92.3626, 95.5454, 98.9598, 101.0531, 104.9152, 107.2753, 110.7188, 113.5312, 116.2596, 119.6586, 122.6239, 125.7991, 128.0443, 131.888, 134.6882, 137.8904, 140.6792, 143.9545, 146.0245, 149.8869, 152.0596, 155.6322, 158.0813, 161.6506, 164.1885, 167.8033, 170.3263, 173.3811, 176.5074, 179.8279, 182.1202, 185.6381, 188.1111, 191.9684, 194.6904, 197.9112, 200.5857, 203.0053, 206.8668, 209.1191, 212.9273, 215.1957, 218.7892, 221.8782, 224.5155, 227.9663, 230.7527, 233.0638, 236.4224, 239.4279, 242.5877, 245.8234, 248.5337, 251.4451, 254.0005, 257.6652, 260.7101, 263.4514, 266.0518, 269.754, 272.8691, 275.5758, 278.0077, 281.1786, 284.0757, 287.9212, 290.0874, 293.8768, 296.6292, 299.7227, 302.1696, 305.5597, 308.3524, 311.6876, 314.2237, 317.903, 320.5667, 323.064, 326.1669, 329.1343, 332.4573, 335.6603, 338.3773, 341.3913, 344.4421, 347.6654, 350.2501, 353.6791, 356.0237, 359.5896, 362.9738, 365.7021, 368.4273, 371.4366, 374.1942, 377.9911, 380.278, 383.8465, 386.6248, 389.821, 392.2816, 395.6034, 398.1001, 401.8627, 404.7752, 407.6963, 410.0719, 413.7031, 416.9852, 419.9975, 422.0829, 425.8044, 428.8191, 431.1686, 434.6429, 437.1894, 440.4003, 443.3573, 446.9324, 449.781, 452.4672, 455.7159, 458.0808, 461.3822, 464.4697, 467.6307, 470.4386, 473.7302, 476.648, 479.9038, 482.1621, 485.4999, 488.2983, 491.319, 494.2963, 497.8718, 500.7729, 503.6031, 506.0801, 509.8398, 512.643, 515.8632, 518.1936, 521.1683, 524.4278, 527.5437, 530.9949, 533.1111, 536.746, 539.7436, 542.4348, 545.408, 548.8832, 551.4302, 554.3416, 557.4579, 560.4968, 563.6163, 566.6763, 569.488, 572.7011, 575.6713, 578.7079, 581.5677, 584.1681, 587.1185, 590.4493, 593.0422, 596.0871, 599.8559, 602.9398]\n"
          ]
        }
      ]
    },
    {
      "cell_type": "code",
      "source": [
        "# 2D features\n",
        "\n",
        "x1= [i for i in range(200)]\n",
        "x2= [0.5*i for i in range(200)]\n",
        "b=np.ones(200)\n",
        "x1_array=np.array(x1)\n",
        "x2_array=np.array(x2)\n",
        "x_features2 = np.zeros((200,3),int)\n",
        "x_features2[:,0]=b\n",
        "x_features2[:,1]=x1\n",
        "x_features2[:,2]=x2\n",
        "#print(x_features)\n",
        "#print(det(x_features))\n",
        "y_rand=[round(3*i+4*(0.265*i)+5+random.uniform(0,1),4) for i in range(200)] # y= 3x1+4x2+5\n",
        "print(y_rand)"
      ],
      "metadata": {
        "colab": {
          "base_uri": "https://localhost:8080/"
        },
        "id": "YWU1-FKZHoCc",
        "outputId": "0ca8fa5a-fff3-43b5-d135-781b1ef526e5"
      },
      "execution_count": null,
      "outputs": [
        {
          "output_type": "stream",
          "name": "stdout",
          "text": [
            "[5.7015, 9.9662, 13.5665, 17.6095, 21.7226, 25.7721, 29.9162, 33.4887, 37.691, 42.4665, 46.4705, 50.2362, 53.7446, 58.413, 62.0409, 66.5591, 70.7228, 74.869, 78.6693, 82.8434, 87.147, 90.9592, 94.3301, 99.016, 103.4026, 106.8646, 110.98, 115.3223, 119.124, 123.4598, 127.0285, 131.7785, 135.8483, 139.9397, 143.3841, 147.8308, 151.2553, 155.8403, 159.8981, 164.0679, 168.0111, 172.3789, 176.1775, 180.0833, 183.9657, 187.9912, 192.2739, 196.1421, 200.1595, 204.7758, 208.5186, 212.9841, 216.1478, 220.1803, 224.3237, 229.0517, 232.4584, 236.9218, 241.0748, 245.2609, 249.4161, 253.2262, 257.541, 261.263, 265.3959, 269.29, 273.4682, 277.8113, 281.1081, 285.9231, 289.7868, 294.017, 297.4951, 302.1672, 305.8014, 309.5384, 314.1938, 317.9554, 322.5405, 326.5945, 330.5595, 333.9662, 338.6526, 342.9574, 346.3777, 350.625, 354.3749, 359.0747, 363.1295, 366.9821, 371.1938, 374.4659, 378.9999, 382.6346, 387.2141, 391.6606, 395.7082, 399.5664, 403.0685, 407.4949, 411.5078, 415.9815, 420.1143, 424.0134, 427.5182, 431.3581, 435.6053, 439.8474, 443.7842, 448.0847, 452.425, 456.6558, 460.166, 464.6916, 468.5272, 472.8755, 476.0885, 480.5676, 484.5656, 488.7975, 492.7532, 496.4918, 501.2765, 504.9877, 509.2333, 512.5552, 517.2532, 521.4446, 524.8496, 528.7974, 532.8117, 537.8411, 541.7387, 545.2531, 549.1012, 553.2151, 558.1313, 561.9856, 565.9259, 569.9927, 573.4076, 578.1871, 582.3994, 585.8182, 589.7467, 594.2298, 598.2373, 602.3872, 605.8815, 610.464, 614.9769, 619.0255, 622.8152, 626.9875, 630.6073, 634.6752, 638.7102, 642.4523, 647.413, 651.2765, 654.7487, 659.0622, 663.6698, 667.3943, 671.4483, 675.3567, 679.7405, 683.8452, 687.601, 691.5441, 695.2175, 699.438, 703.4317, 707.6336, 711.6927, 715.9822, 719.8706, 724.2616, 727.7099, 732.7318, 736.2876, 740.8498, 744.8889, 748.9161, 752.5374, 756.3996, 760.3846, 764.4852, 768.8898, 772.3607, 776.7774, 781.056, 785.1583, 789.4588, 793.3025, 797.008, 801.3725, 804.9959, 808.9174, 813.2748]\n"
          ]
        }
      ]
    },
    {
      "cell_type": "code",
      "source": [
        "def Model(x_features,y_rand):\n",
        "  x_transpose= x_features.transpose()\n",
        "  multiply=x_transpose.dot(x_features)\n",
        "  inverse= np.linalg.inv(multiply)\n",
        "  intermediate_multiply= inverse.dot(x_transpose)\n",
        "  w=intermediate_multiply.dot(y_rand)\n",
        "\n",
        "  return w\n"
      ],
      "metadata": {
        "id": "qHO2a966tut4"
      },
      "execution_count": null,
      "outputs": []
    },
    {
      "cell_type": "code",
      "source": [
        "model1D=  Model(x_features1,y_random)\n",
        "print(model1D)\n",
        "model2D= Model(x_features2,y_rand)\n",
        "print(model2D)\n",
        "x_test = np.array([1, 7])\n",
        "y_est = (model1D.transpose()).dot(x_test) #x_test.dot(model1D) #\n",
        "print(\"y est.= \", y_est)\n",
        "error  = y_est - y_random[7]\n",
        "print(error/y_random[7])"
      ],
      "metadata": {
        "id": "Fwhyy5aOttj9",
        "colab": {
          "base_uri": "https://localhost:8080/"
        },
        "outputId": "4683b8ce-ce7f-4911-fd24-71d2fbb5b501"
      },
      "execution_count": null,
      "outputs": [
        {
          "output_type": "stream",
          "name": "stdout",
          "text": [
            "[5.54034709 2.99984819]\n",
            "[ 5.53780757  4.142827   -0.16661993]\n",
            "y est.=  26.53928438475942\n",
            "0.004727890270436534\n"
          ]
        }
      ]
    },
    {
      "cell_type": "code",
      "source": [
        "x = np.array([1, 2])\n",
        "y = np.array(([3, 4], [5, 6]))\n",
        "print(x)\n",
        "print(y)\n",
        "print(y.dot(x.transpose()))"
      ],
      "metadata": {
        "colab": {
          "base_uri": "https://localhost:8080/"
        },
        "id": "NTj9bKpe8voU",
        "outputId": "c04a2ea6-645e-4648-c9ed-cd52895811e9"
      },
      "execution_count": null,
      "outputs": [
        {
          "output_type": "stream",
          "name": "stdout",
          "text": [
            "[1 2]\n",
            "[[3 4]\n",
            " [5 6]]\n",
            "[11 17]\n"
          ]
        }
      ]
    },
    {
      "cell_type": "markdown",
      "source": [
        "##Refrences\n",
        "\n",
        "https://machinelearningmastery.com/linear-regression-for-machine-learning/\n",
        "\n",
        "https://towardsdatascience.com/linear-regression-derivation-d362ea3884c2\n",
        "\n"
      ],
      "metadata": {
        "id": "OboYZYGvv6UZ"
      }
    },
    {
      "cell_type": "markdown",
      "source": [
        "\n",
        "\n",
        "---\n",
        "\n",
        "\n",
        "\n",
        "---\n",
        "\n",
        "\n",
        "## **Linear Classification**\n",
        "\n",
        "---\n",
        "\n",
        "\n",
        "\n",
        "---\n",
        "\n"
      ],
      "metadata": {
        "id": "oDy9UHmD8mnU"
      }
    },
    {
      "cell_type": "markdown",
      "source": [
        "##Load IRIS datasets"
      ],
      "metadata": {
        "id": "r1w3m9t1u4vn"
      }
    },
    {
      "cell_type": "code",
      "source": [
        "\n",
        "%matplotlib inline\n",
        "iris = sns.load_dataset('iris')\n",
        "iris_copy= iris.copy(deep=True)\n",
        "b=np.ones(150)\n",
        "iris_copy['Augmentation']= b\n",
        "print(iris_copy)\n",
        "iris_array=iris_copy.to_numpy()\n",
        "\n",
        "\n"
      ],
      "metadata": {
        "id": "Bf9MHeqwu6CJ",
        "colab": {
          "base_uri": "https://localhost:8080/"
        },
        "outputId": "35ab7b79-737b-4f1f-cd67-e799dda6fa9f"
      },
      "execution_count": null,
      "outputs": [
        {
          "output_type": "stream",
          "name": "stdout",
          "text": [
            "     sepal_length  sepal_width  petal_length  petal_width    species  \\\n",
            "0             5.1          3.5           1.4          0.2     setosa   \n",
            "1             4.9          3.0           1.4          0.2     setosa   \n",
            "2             4.7          3.2           1.3          0.2     setosa   \n",
            "3             4.6          3.1           1.5          0.2     setosa   \n",
            "4             5.0          3.6           1.4          0.2     setosa   \n",
            "..            ...          ...           ...          ...        ...   \n",
            "145           6.7          3.0           5.2          2.3  virginica   \n",
            "146           6.3          2.5           5.0          1.9  virginica   \n",
            "147           6.5          3.0           5.2          2.0  virginica   \n",
            "148           6.2          3.4           5.4          2.3  virginica   \n",
            "149           5.9          3.0           5.1          1.8  virginica   \n",
            "\n",
            "     Augmentation  \n",
            "0             1.0  \n",
            "1             1.0  \n",
            "2             1.0  \n",
            "3             1.0  \n",
            "4             1.0  \n",
            "..            ...  \n",
            "145           1.0  \n",
            "146           1.0  \n",
            "147           1.0  \n",
            "148           1.0  \n",
            "149           1.0  \n",
            "\n",
            "[150 rows x 6 columns]\n"
          ]
        }
      ]
    },
    {
      "cell_type": "code",
      "source": [
        "type(iris)"
      ],
      "metadata": {
        "colab": {
          "base_uri": "https://localhost:8080/"
        },
        "id": "8scr30yHJXuZ",
        "outputId": "25ac0c29-811c-478f-c6d3-92adab90ad2f"
      },
      "execution_count": null,
      "outputs": [
        {
          "output_type": "execute_result",
          "data": {
            "text/plain": [
              "pandas.core.frame.DataFrame"
            ]
          },
          "metadata": {},
          "execution_count": 10
        }
      ]
    },
    {
      "cell_type": "markdown",
      "source": [
        "## Linear Classification\n"
      ],
      "metadata": {
        "id": "SWOiatvPu48L"
      }
    },
    {
      "cell_type": "markdown",
      "source": [
        "### Split dataset\n",
        "Hints:\n",
        "1. split the training and test samples for **each** class with the ratio:\n",
        "\n",
        "training--> 40\n",
        "\n",
        "testing-->10\n",
        "\n",
        "2. concatenate all the training data set together, then all the test data set together to have two large data sets using df1 = pd.DataFrame(.....)\n",
        "\n",
        "3. take the target (y) alone for each class; this is what we will train with.\n",
        "\n",
        "4. as we did in the lecture:\n",
        "\n",
        "for class#1 y1 will be adjusted to be [1, -1, -1]\n",
        "\n",
        "y2 will be adjusted to [-1, 1, -1]\n",
        "\n",
        "y3 will be adjusted to [-1, -1, 1]\n",
        "\n",
        "using y1.replace(.....)\n",
        "\n",
        "5. apply all necessary modifications required for the X matrix *if* you need it\n",
        "\n",
        "6. use the following methods to calculate ***W***:\n",
        "\n",
        "matrix.transpose()\n",
        "\n",
        "matrix1.dot(matrix2)\n",
        "\n",
        "np.linalg.inv(matrix)\n",
        "\n",
        "7. make the three classifier functions like:\n",
        "\n",
        "def setosa_classifier(w,testdata):\n",
        "....\n",
        "\n",
        "8. do ***for*** loop over the test samples to classify them into y_predicted\n",
        "\n",
        "9. calculate the prediction error"
      ],
      "metadata": {
        "id": "wkXfIyZ-zfJh"
      }
    },
    {
      "cell_type": "markdown",
      "source": [
        "\n",
        "\n",
        "---\n",
        "\n",
        "\n",
        "\n",
        "---\n",
        "\n",
        "\n",
        "The coming section shows much more details:\n",
        "\n",
        "\n",
        "---\n",
        "\n",
        "\n",
        "\n",
        "---\n",
        "\n"
      ],
      "metadata": {
        "id": "_TNUKvLYZBmp"
      }
    },
    {
      "cell_type": "markdown",
      "source": [
        "### Make Z for all feature\n"
      ],
      "metadata": {
        "id": "1RkXu6Ekwx8t"
      }
    },
    {
      "cell_type": "markdown",
      "source": [
        "###Calculate w\n",
        "## w=(Z^T * Z)^-1 * Z^T * b\n"
      ],
      "metadata": {
        "id": "fP6rNvRju4_h"
      }
    },
    {
      "cell_type": "code",
      "source": [
        "\n"
      ],
      "metadata": {
        "id": "xFxovkGtu7wE"
      },
      "execution_count": null,
      "outputs": []
    },
    {
      "cell_type": "markdown",
      "source": [
        "### One Vs All\n",
        "Build 3 model\n"
      ],
      "metadata": {
        "id": "lpkG8sYLu5Gp"
      }
    },
    {
      "cell_type": "markdown",
      "source": [
        "##w1, w2 , w3\n",
        "\n"
      ],
      "metadata": {
        "id": "vNzyMcU1z-PR"
      }
    },
    {
      "cell_type": "code",
      "source": [],
      "metadata": {
        "id": "-wY5ELSKu8O0"
      },
      "execution_count": null,
      "outputs": []
    },
    {
      "cell_type": "markdown",
      "source": [
        "Evaluation\n",
        "\n",
        "Class #1\n",
        "if w1^T * x  > 0\n",
        "and w2^T * x < 0\n",
        "and w3^T * x < 0\n",
        "\n",
        "Class #2\n",
        "if w1^T * x  < 0\n",
        "and w2^T * x > 0\n",
        "and w3^T * x < 0\n",
        "\n",
        "Class #3\n",
        "if w1^T * x  < 0\n",
        "and w2^T * x < 0\n",
        "and w3^T * x > 0\n",
        "\n",
        "Undefine Class\n",
        "if\n",
        " w1^T * x    > 0 and w2^T * x > 0 and w3^T * x < 0\n",
        "\n",
        "OR\n",
        "\n",
        "w1^T * x    < 0 and w2^T * x > 0 and w3^T * x > 0\n",
        "\n",
        "OR\n",
        "\n",
        "w1^T * x    > 0 and w2^T * x < 0 and w3^T * x > 0\n"
      ],
      "metadata": {
        "id": "T6xEtKAN0FPZ"
      }
    },
    {
      "cell_type": "code",
      "source": [],
      "metadata": {
        "id": "yv7wTUbQ1C1Q"
      },
      "execution_count": null,
      "outputs": []
    }
  ]
}